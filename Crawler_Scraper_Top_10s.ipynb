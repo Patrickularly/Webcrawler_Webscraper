{
 "cells": [
  {
   "cell_type": "markdown",
   "metadata": {},
   "source": [
    "# Importing libraries\n",
    "***"
   ]
  },
  {
   "cell_type": "code",
   "execution_count": 1,
   "metadata": {},
   "outputs": [],
   "source": [
    "from bs4 import BeautifulSoup\n",
    "import csv\n",
    "import requests\n",
    "import time\n",
    "import random\n",
    "from selenium import webdriver"
   ]
  },
  {
   "cell_type": "markdown",
   "metadata": {},
   "source": [
    "***\n",
    "# Crawling Ranking Page URLs from Tapology\n",
    "\n",
    "Fetching current rankings page from Tapology, parsing HTML content to find all hyperlinks, filtering the links to include only those that contain '-top-' in their URL and exclude any with '?page=', and then compiling these URLs into a list called urls.\n",
    "***"
   ]
  },
  {
   "cell_type": "code",
   "execution_count": 2,
   "metadata": {},
   "outputs": [],
   "source": [
    "base_url = 'https://www.tapology.com/rankings/groups/current'\n",
    "urls = []\n",
    "\n",
    "response = requests.get(base_url)\n",
    "soup = BeautifulSoup(response.content, 'html.parser')\n",
    "\n",
    "page_links = soup.select('a[href]')\n",
    "\n",
    "for link in page_links:\n",
    "    url = link['href']\n",
    "    prefix = 'https://www.tapology.com'\n",
    "    final_url = prefix + url\n",
    "    if \"-top-\" in url:\n",
    "        if '?page=' not in final_url:\n",
    "            if final_url not in base_url:\n",
    "                urls.append(final_url)"
   ]
  },
  {
   "cell_type": "markdown",
   "metadata": {},
   "source": [
    "***\n",
    "# Checking collected URLs\n",
    "\n",
    "Making sure the **'urls'** list only contains necessary links.\n",
    "***"
   ]
  },
  {
   "cell_type": "code",
   "execution_count": 3,
   "metadata": {},
   "outputs": [
    {
     "data": {
      "text/plain": [
       "['https://www.tapology.com/rankings/current-top-ten-best-pound-for-pound-mma-and-ufc-fighters',\n",
       " 'https://www.tapology.com/rankings/current-top-ten-heavyweight-mma-fighters-265-pounds',\n",
       " 'https://www.tapology.com/rankings/current-top-ten-light-heavyweight-mma-fighters-205-pounds',\n",
       " 'https://www.tapology.com/rankings/current-top-ten-middleweight-mma-fighters-185-pounds',\n",
       " 'https://www.tapology.com/rankings/current-top-ten-welterweight-mma-fighters-170-pounds',\n",
       " 'https://www.tapology.com/rankings/current-top-ten-lightweight-mma-fighters-155-pounds',\n",
       " 'https://www.tapology.com/rankings/current-top-ten-featherweight-mma-fighters-145-pounds',\n",
       " 'https://www.tapology.com/rankings/current-top-ten-bantamweight-mma-fighters-135-pounds',\n",
       " 'https://www.tapology.com/rankings/35-top-flyweight-mma-fighters',\n",
       " 'https://www.tapology.com/rankings/1261-top-women-bantamweight-fighters',\n",
       " 'https://www.tapology.com/rankings/1262-top-women-flyweight-fighters',\n",
       " 'https://www.tapology.com/rankings/1263-top-women-strawweight-fighters',\n",
       " 'https://www.tapology.com/rankings/1264-top-women-atomweight-fighters',\n",
       " 'https://www.tapology.com/rankings/1265-top-women-featherweight-fighters']"
      ]
     },
     "execution_count": 3,
     "metadata": {},
     "output_type": "execute_result"
    }
   ],
   "source": [
    "urls"
   ]
  },
  {
   "cell_type": "markdown",
   "metadata": {},
   "source": [
    "***\n",
    "# Adjusting Ranking Page URLs\n",
    "\n",
    "The first link in the **'urls'** list does not meet the criteria and will therefore be deleted.\n",
    "***"
   ]
  },
  {
   "cell_type": "code",
   "execution_count": 4,
   "metadata": {},
   "outputs": [
    {
     "data": {
      "text/plain": [
       "'https://www.tapology.com/rankings/current-top-ten-best-pound-for-pound-mma-and-ufc-fighters'"
      ]
     },
     "execution_count": 4,
     "metadata": {},
     "output_type": "execute_result"
    }
   ],
   "source": [
    "urls.pop(0)"
   ]
  },
  {
   "cell_type": "markdown",
   "metadata": {},
   "source": [
    "***\n",
    "# Collecting Top 10 Fighter Profile Links\n",
    "\n",
    "Extracting profile URLs of the top 10 fighters from each ranking page in urls and compiling them into a list called **'fighter_page_list'**.\n",
    "***"
   ]
  },
  {
   "cell_type": "code",
   "execution_count": 5,
   "metadata": {},
   "outputs": [],
   "source": [
    "fighter_page_list = []\n",
    "\n",
    "for url in urls:\n",
    "    response = requests.get(url)\n",
    "    soup = BeautifulSoup(response.content, 'html.parser')\n",
    "    \n",
    "    rankings = soup.find_all(class_=\"rankingItemsItemRank\")\n",
    "    divs = soup.find_all('div', class_='rankingItemsItemRow name')    \n",
    "    prefix = 'https://www.tapology.com'\n",
    "\n",
    "    fighter_count = 0\n",
    "    for rank, div in zip(rankings, divs):\n",
    "        rank_number = int(rank.text.strip())\n",
    "        if rank_number < 11 and fighter_count < 10:\n",
    "            a_tag = div.find('h1', class_='name').find('a')\n",
    "\n",
    "            if a_tag:\n",
    "                full_link = prefix + a_tag['href']\n",
    "                fighter_page_list.append(full_link)\n",
    "                fighter_count += 1 \n",
    "\n",
    "        if fighter_count >= 10:\n",
    "            break"
   ]
  },
  {
   "cell_type": "markdown",
   "metadata": {},
   "source": [
    "***\n",
    "# Scraping fighter data \n",
    "\n",
    "Scraping detailed fighter information from their profile pages using Selenium and BeautifulSoup. Extracting attributes like name, nickname, age, nationality, record, earnings, height, reach, weight, as well as weight class and then compiling these details into a list called **'fighter_list'**.\n",
    "***"
   ]
  },
  {
   "cell_type": "code",
   "execution_count": null,
   "metadata": {},
   "outputs": [],
   "source": [
    "def safe_get_text(tag, key):\n",
    "    result = tag.find('strong', text=key)\n",
    "    return result.find_next_sibling('span').text.strip() if result and result.find_next_sibling('span') else 'N/A'\n",
    "\n",
    "driver = webdriver.Safari()\n",
    "\n",
    "fighter_list = []\n",
    "\n",
    "for fighter in fighter_page_list:\n",
    "    driver.get(fighter)\n",
    "    time.sleep(2)\n",
    "\n",
    "    page_source = driver.page_source\n",
    "    content = BeautifulSoup(page_source, 'html.parser')\n",
    "\n",
    "    h1_tag = content.find_all('h1')\n",
    "    if h1_tag:\n",
    "        name = h1_tag[1].text.strip()\n",
    "\n",
    "    nickname = safe_get_text(content, 'Nickname:')\n",
    "    record = safe_get_text(content, 'Pro MMA Record:')\n",
    "    earnings = safe_get_text(content, 'Career Disclosed Earnings:')\n",
    "    height = safe_get_text(content, 'Height:')\n",
    "    reach = safe_get_text(content, '| Reach:')\n",
    "    weight_class = safe_get_text(content, 'Weight Class:')\n",
    "    dob = safe_get_text(content, '| Date of Birth:')\n",
    "    nationality = safe_get_text(content, 'Born:')\n",
    "    age = safe_get_text(content, 'Age:')\n",
    "    last_weight = safe_get_text(content, '| Last Weigh-In:')\n",
    "\n",
    "    block = f'name: {name}, nickname: {nickname}, age: {age}, born: {dob}, nationality: {nationality}, record: {record}, earnings_$: {earnings}, height: {height}, reach: {reach}, weight: {last_weight}, weight_class: {weight_class}'\n",
    "    \n",
    "    fighter_list.append([block])\n",
    "\n",
    "    time.sleep(random.randint(0, 7))\n",
    "\n",
    "driver.quit()"
   ]
  },
  {
   "cell_type": "markdown",
   "metadata": {},
   "source": [
    "***\n",
    "# Creating .csv file\n",
    "\n",
    "Writing the collected fighter data from fighter_list into a CSV file named **'top_10_fighters.csv'** for further data analysis.\n",
    "***"
   ]
  },
  {
   "cell_type": "code",
   "execution_count": null,
   "metadata": {},
   "outputs": [],
   "source": [
    "with open('/Volumes/Dr Ive /Local Repo/WebScraWler/Data/top_10_fighters.csv', mode='w', newline='') as file:\n",
    "    writer = csv.writer(file)\n",
    "    writer.writerow(['name', 'nickname', 'age', 'born', 'nationality', 'record', 'earnings', 'height', 'reach', 'weight', 'weight_class'])\n",
    "\n",
    "    for fighter in fighter_list:\n",
    "        details = fighter[0].split(', ')\n",
    "        row = []\n",
    "        temp_string = \"\"\n",
    "        for detail in details:\n",
    "            if ': ' in detail and temp_string == \"\":\n",
    "                temp_string = detail.split(': ', 1)[1]\n",
    "            else:\n",
    "                if temp_string:\n",
    "                    temp_string += ', ' + detail\n",
    "                else:\n",
    "                    temp_string = detail\n",
    "\n",
    "            if temp_string and detail == details[-1]:  \n",
    "                row.append(temp_string.strip())\n",
    "                temp_string = \"\"\n",
    "\n",
    "        writer.writerow(row)"
   ]
  }
 ],
 "metadata": {
  "kernelspec": {
   "display_name": "base",
   "language": "python",
   "name": "python3"
  },
  "language_info": {
   "codemirror_mode": {
    "name": "ipython",
    "version": 3
   },
   "file_extension": ".py",
   "mimetype": "text/x-python",
   "name": "python",
   "nbconvert_exporter": "python",
   "pygments_lexer": "ipython3",
   "version": "3.12.2"
  }
 },
 "nbformat": 4,
 "nbformat_minor": 2
}
